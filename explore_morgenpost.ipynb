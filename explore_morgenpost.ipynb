{
 "cells": [
  {
   "cell_type": "code",
   "execution_count": 1,
   "metadata": {},
   "outputs": [],
   "source": [
    "import pandas as pd"
   ]
  },
  {
   "cell_type": "code",
   "execution_count": 3,
   "metadata": {},
   "outputs": [],
   "source": [
    "df = pd.read_csv('data/data_morgenpost.csv')"
   ]
  },
  {
   "cell_type": "code",
   "execution_count": 6,
   "metadata": {},
   "outputs": [
    {
     "name": "stdout",
     "output_type": "stream",
     "text": [
      "Index(['ags', 'R20mm_rcp26_obs', 'R20mm_rcp26_near', 'R20mm_rcp26_far',\n",
      "       'DD_rcp26_obs', 'DD_rcp26_near', 'DD_rcp26_far', 'TR_rcp26_obs',\n",
      "       'TR_rcp26_near', 'TR_rcp26_far', 'SU30_rcp26_obs', 'SU30_rcp26_near',\n",
      "       'SU30_rcp26_far', 'HI_rcp26_obs', 'HI_rcp26_near', 'HI_rcp26_far',\n",
      "       'ET_rcp26_obs', 'ET_rcp26_near', 'ET_rcp26_far', 'R20mm_rcp45_obs',\n",
      "       'R20mm_rcp45_near', 'R20mm_rcp45_far', 'DD_rcp45_obs', 'DD_rcp45_near',\n",
      "       'DD_rcp45_far', 'TR_rcp45_obs', 'TR_rcp45_near', 'TR_rcp45_far',\n",
      "       'SU30_rcp45_obs', 'SU30_rcp45_near', 'SU30_rcp45_far', 'HI_rcp45_obs',\n",
      "       'HI_rcp45_near', 'HI_rcp45_far', 'ET_rcp45_obs', 'ET_rcp45_near',\n",
      "       'ET_rcp45_far', 'R20mm_rcp85_obs', 'R20mm_rcp85_near',\n",
      "       'R20mm_rcp85_far', 'DD_rcp85_obs', 'DD_rcp85_near', 'DD_rcp85_far',\n",
      "       'TR_rcp85_obs', 'TR_rcp85_near', 'TR_rcp85_far', 'SU30_rcp85_obs',\n",
      "       'SU30_rcp85_near', 'SU30_rcp85_far', 'HI_rcp85_obs', 'HI_rcp85_near',\n",
      "       'HI_rcp85_far', 'ET_rcp85_obs', 'ET_rcp85_near', 'ET_rcp85_far'],\n",
      "      dtype='object')\n"
     ]
    }
   ],
   "source": [
    "print(df.columns)"
   ]
  },
  {
   "cell_type": "code",
   "execution_count": 15,
   "metadata": {},
   "outputs": [],
   "source": [
    "new_cols = [col_name for col_name in df.columns if (col_name[-4:] == \"near\" or col_name[-3:]) and \"85\" in col_name] "
   ]
  },
  {
   "cell_type": "code",
   "execution_count": 16,
   "metadata": {},
   "outputs": [
    {
     "data": {
      "text/plain": [
       "['R20mm_rcp85_obs',\n",
       " 'R20mm_rcp85_near',\n",
       " 'R20mm_rcp85_far',\n",
       " 'DD_rcp85_obs',\n",
       " 'DD_rcp85_near',\n",
       " 'DD_rcp85_far',\n",
       " 'TR_rcp85_obs',\n",
       " 'TR_rcp85_near',\n",
       " 'TR_rcp85_far',\n",
       " 'SU30_rcp85_obs',\n",
       " 'SU30_rcp85_near',\n",
       " 'SU30_rcp85_far',\n",
       " 'HI_rcp85_obs',\n",
       " 'HI_rcp85_near',\n",
       " 'HI_rcp85_far',\n",
       " 'ET_rcp85_obs',\n",
       " 'ET_rcp85_near',\n",
       " 'ET_rcp85_far']"
      ]
     },
     "execution_count": 16,
     "metadata": {},
     "output_type": "execute_result"
    }
   ],
   "source": [
    "new_cols"
   ]
  },
  {
   "cell_type": "code",
   "execution_count": 13,
   "metadata": {},
   "outputs": [
    {
     "name": "stdout",
     "output_type": "stream",
     "text": [
      "R20mm_rcp26_obs: 370    16.5\n",
      "Name: R20mm_rcp26_obs, dtype: float64\n",
      "DD_rcp26_obs: 370    53.8\n",
      "Name: DD_rcp26_obs, dtype: float64\n",
      "TR_rcp26_obs: 370    0.0\n",
      "Name: TR_rcp26_obs, dtype: float64\n",
      "SU30_rcp26_obs: 370    1.6\n",
      "Name: SU30_rcp26_obs, dtype: float64\n",
      "HI_rcp26_obs: 370    0.9\n",
      "Name: HI_rcp26_obs, dtype: float64\n",
      "ET_rcp26_obs: 370    26.9\n",
      "Name: ET_rcp26_obs, dtype: float64\n",
      "R20mm_rcp45_obs: 370    16.5\n",
      "Name: R20mm_rcp45_obs, dtype: float64\n",
      "DD_rcp45_obs: 370    53.8\n",
      "Name: DD_rcp45_obs, dtype: float64\n",
      "TR_rcp45_obs: 370    0.0\n",
      "Name: TR_rcp45_obs, dtype: float64\n",
      "SU30_rcp45_obs: 370    1.6\n",
      "Name: SU30_rcp45_obs, dtype: float64\n",
      "HI_rcp45_obs: 370    0.9\n",
      "Name: HI_rcp45_obs, dtype: float64\n",
      "ET_rcp45_obs: 370    26.9\n",
      "Name: ET_rcp45_obs, dtype: float64\n",
      "R20mm_rcp85_obs: 370    16.5\n",
      "Name: R20mm_rcp85_obs, dtype: float64\n",
      "DD_rcp85_obs: 370    53.8\n",
      "Name: DD_rcp85_obs, dtype: float64\n",
      "TR_rcp85_obs: 370    0.0\n",
      "Name: TR_rcp85_obs, dtype: float64\n",
      "SU30_rcp85_obs: 370    1.6\n",
      "Name: SU30_rcp85_obs, dtype: float64\n",
      "HI_rcp85_obs: 370    0.9\n",
      "Name: HI_rcp85_obs, dtype: float64\n",
      "ET_rcp85_obs: 370    26.9\n",
      "Name: ET_rcp85_obs, dtype: float64\n"
     ]
    }
   ],
   "source": [
    "# brandenburg = df[df['ags'] == 12051]\n",
    "brandenburg = df[df['ags'] == 8237]\n",
    "for col_name in df.columns:\n",
    "    if col_name[-3:] != \"obs\":\n",
    "        continue\n",
    "    print(f\"{col_name}: {brandenburg[col_name]}\")"
   ]
  }
 ],
 "metadata": {
  "kernelspec": {
   "display_name": "venv",
   "language": "python",
   "name": "python3"
  },
  "language_info": {
   "codemirror_mode": {
    "name": "ipython",
    "version": 3
   },
   "file_extension": ".py",
   "mimetype": "text/x-python",
   "name": "python",
   "nbconvert_exporter": "python",
   "pygments_lexer": "ipython3",
   "version": "3.9.18"
  }
 },
 "nbformat": 4,
 "nbformat_minor": 2
}
